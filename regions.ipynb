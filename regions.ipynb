{
  "nbformat": 4,
  "nbformat_minor": 0,
  "metadata": {
    "colab": {
      "name": "Regions.ipynb",
      "provenance": [],
      "collapsed_sections": []
    },
    "kernelspec": {
      "name": "python3",
      "display_name": "Python 3"
    },
    "language_info": {
      "name": "python"
    }
  },
  "cells": [
    {
      "cell_type": "markdown",
      "metadata": {
        "id": "ohD8neUzWQpM"
      },
      "source": [
        "***K-MEANS CLUSTERING***"
      ]
    },
    {
      "cell_type": "markdown",
      "metadata": {
        "id": "n1bzB02DATFO"
      },
      "source": [
        "#FOR RANDOM GENERATION OF POINTS"
      ]
    },
    {
      "cell_type": "code",
      "metadata": {
        "id": "pSVHuWV3j_Ru"
      },
      "source": [
        "import math, random\n",
        "from shapely.geometry import Point\n",
        "from shapely.geometry.polygon import Polygon\n",
        "import pandas as pd\n",
        "import numpy as np\n",
        "import pandas as pd\n",
        "from matplotlib import pyplot as plt\n",
        "from sklearn.cluster import KMeans\n",
        "import matplotlib.pyplot as plt\n",
        "\n",
        "def generatePolygon( ctrX, ctrY, aveRadius, irregularity, spikeyness, numVerts ) :\n",
        "    irregularity =  irregularity * 2*math.pi / numVerts\n",
        "    spikeyness = spikeyness * aveRadius\n",
        "    # generate n angle steps\n",
        "    angleSteps = []\n",
        "    lower = (2*math.pi / numVerts) - irregularity\n",
        "    upper = (2*math.pi / numVerts) + irregularity\n",
        "    sum = 0\n",
        "    for i in range(numVerts) :\n",
        "        tmp = random.uniform(lower, upper)\n",
        "        angleSteps.append( tmp )\n",
        "        sum = sum + tmp\n",
        "    # normalize the steps so that point 0 and point n+1 are the same\n",
        "    k = sum / (2*math.pi)\n",
        "    for i in range(numVerts) :\n",
        "        angleSteps[i] = angleSteps[i] / k\n",
        "    # now generate the points\n",
        "    points = []\n",
        "    angle = random.uniform(0, 2*math.pi)\n",
        "    for i in range(numVerts) :\n",
        "        r_i =  random.gauss(aveRadius, spikeyness)\n",
        "        x =  ctrX + r_i*math.cos(angle)\n",
        "        y = ctrY + r_i*math.sin(angle)\n",
        "        points.append( (int(x),int(y)) )\n",
        "        angle = angle + angleSteps[i]\n",
        "\n",
        "    return points\n",
        "\n",
        "verts = generatePolygon( ctrX=100, ctrY=100, aveRadius=200, irregularity=1, spikeyness=0.11, numVerts=50 )\n",
        "pa = Polygon(verts)"
      ],
      "execution_count": 21,
      "outputs": []
    },
    {
      "cell_type": "markdown",
      "metadata": {
        "id": "CtIdnS_LAYvC"
      },
      "source": [
        "#PRE-DEFINED POINTS FROM STATES"
      ]
    },
    {
      "cell_type": "code",
      "metadata": {
        "colab": {
          "base_uri": "https://localhost:8080/",
          "height": 302
        },
        "id": "KOatgfYw0fiQ",
        "outputId": "95356111-840a-4240-f895-7b92a81bb7aa"
      },
      "source": [
        "#%%\n",
        "\"\"\"for states\"\"\"\n",
        "import pandas as pd\n",
        "import numpy as np\n",
        "import matplotlib.pyplot as plt\n",
        "from sklearn.cluster import KMeans\n",
        "\n",
        "import json\n",
        "import random\n",
        "\n",
        "f = open('states.json')\n",
        "data = json.load(f)\n",
        "\n",
        "a = data['New Jersey']['Coordinates']\n",
        "x1=[]\n",
        "y1 = []\n",
        "output = []\n",
        "for i in a:\n",
        "    output.append((i['lat'], i['lng']))\n",
        "    x1.append(i['lat'])\n",
        "    y1.append(i['lng'])\n",
        "plt.scatter(x1,y1, c='b')\n",
        "plt.show()"
      ],
      "execution_count": 1,
      "outputs": [
        {
          "output_type": "stream",
          "text": [
            "[(41.3572, -74.695), (41.3394, -74.6559), (40.9934, -73.894), (40.8398, -73.9586), (40.7691, -74.0094), (40.6994, -74.0231), (40.6786, -74.0437), (40.6515, -74.0808), (40.6421, -74.1357), (40.6452, -74.1962), (40.5952, -74.2003), (40.5566, -74.2195), (40.4877, -74.2552), (40.4762, -74.2264), (40.5253, -73.9503), (40.4846, -73.8885), (40.0045, -73.9352), (39.6131, -74.041), (39.4744, -74.2209), (38.9882, -74.6713), (38.8664, -74.8553), (38.8472, -75.0476), (39.0565, -75.1685), (39.2525, -75.325), (39.45, -75.5544), (39.4966, -75.5612), (39.4998, -75.5283), (39.5411, -75.5338), (39.5761, -75.509), (39.6237, -75.5708), (39.6713, -75.5104), (39.7167, -75.4843), (39.8033, -75.4156), (39.836, -75.2632), (39.8823, -75.1918), (40.118, -74.7922), (40.139, -74.7331), (40.2565, -74.8485), (40.3361, -74.9419), (40.402, -74.9721), (40.424, -75.0627), (40.4898, -75.0613), (40.5733, -75.1067), (40.5639, -75.2138), (40.6192, -75.2028), (40.6494, -75.2069), (40.8284, -75.0806), (40.8429, -75.0998), (40.8689, -75.0504), (40.9913, -75.1369), (41.2293, -74.8677), (41.3479, -74.7537), (41.3469, -74.7249), (41.3593, -74.696)]\n"
          ],
          "name": "stdout"
        },
        {
          "output_type": "display_data",
          "data": {
            "image/png": "[encoded data removed]",
            "text/plain": [
              "<Figure size 432x288 with 1 Axes>"
            ]
          },
          "metadata": {
            "tags": [],
            "needs_background": "light"
          }
        }
      ]
    },
    {
      "cell_type": "code",
      "metadata": {
        "id": "Mzhf9xfP2KFB"
      },
      "source": [
        "from shapely.geometry import Polygon, Point\n",
        "def random_points_within(poly, num_points):\n",
        "    min_x, min_y, max_x, max_y = poly.bounds\n",
        "\n",
        "    points = []\n",
        "\n",
        "    while len(points) < num_points:\n",
        "        random_point = Point([random.uniform(min_x, max_x), random.uniform(min_y, max_y)])\n",
        "        if (random_point.within(poly)):\n",
        "            points.append(random_point)\n",
        "\n",
        "    return points"
      ],
      "execution_count": 2,
      "outputs": []
    },
    {
      "cell_type": "code",
      "metadata": {
        "id": "UTHe2Et32K4G"
      },
      "source": [
        "#change 'output' to 'verts' for points randomly generated\n",
        "p = random_points_within(Polygon(verts), 50000)\n",
        "points=[]\n",
        "x_point = []\n",
        "y_point = []\n",
        "for i in p:\n",
        "    points.append([i.x, i.y])\n",
        "    x_point.append(i.x)\n",
        "    y_point.append(i.y)\n",
        "points = np.array(points)"
      ],
      "execution_count": 22,
      "outputs": []
    },
    {
      "cell_type": "code",
      "metadata": {
        "colab": {
          "base_uri": "https://localhost:8080/",
          "height": 265
        },
        "id": "BDIyVh0D2Mzs",
        "outputId": "76567037-7450-4af1-a875-2b44c215d651"
      },
      "source": [
        "plt.scatter(x_point,y_point, c='b')\n",
        "plt.show()"
      ],
      "execution_count": 23,
      "outputs": [
        {
          "output_type": "display_data",
          "data": {
            "image/png": "[encoded data removed]",
            "text/plain": [
              "<Figure size 432x288 with 1 Axes>"
            ]
          },
          "metadata": {
            "tags": [],
            "needs_background": "light"
          }
        }
      ]
    },
    {
      "cell_type": "code",
      "metadata": {
        "id": "cgc84EaI9n4b"
      },
      "source": [
        "X=points\n",
        "n_regions = 20\n",
        "kmeans = KMeans(n_clusters = n_regions, init = 'k-means++', random_state = 0)\n",
        "y_kmeans = kmeans.fit_predict(X)"
      ],
      "execution_count": 24,
      "outputs": []
    },
    {
      "cell_type": "code",
      "metadata": {
        "colab": {
          "base_uri": "https://localhost:8080/"
        },
        "id": "3muq7K3P9w76",
        "outputId": "e7d5b61c-ef87-41f8-9480-451eb81403c2"
      },
      "source": [
        "colors = ['yellowgreen','khaki','cornflowerblue','darkgrey']\n",
        "regions = ['Grasslands','Cultivated Land','Water Bodies','Constructed Buildings']\n",
        "a = [0]*4\n",
        "for i in range(4):\n",
        "  print('Enter Percentage coverage of ', regions[i],\": \")\n",
        "  a[i] = int(input())"
      ],
      "execution_count": 25,
      "outputs": [
        {
          "output_type": "stream",
          "text": [
            "Enter Percentage coverage of  Grasslands : \n",
            "40\n",
            "Enter Percentage coverage of  Cultivated Land : \n",
            "10\n",
            "Enter Percentage coverage of  Water Bodies : \n",
            "20\n",
            "Enter Percentage coverage of  Constructed Buildings : \n",
            "30\n"
          ],
          "name": "stdout"
        }
      ]
    },
    {
      "cell_type": "code",
      "metadata": {
        "colab": {
          "base_uri": "https://localhost:8080/",
          "height": 265
        },
        "id": "2XESbMNX91Y8",
        "outputId": "3b0f1a3d-5437-4b1b-abdf-072ce2958ba4"
      },
      "source": [
        "ind = 0\n",
        "for i in range(4):\n",
        "  r = (a[i]*n_regions)//100\n",
        "  for j in range(r):\n",
        "    if(j==0):\n",
        "      plt.scatter(X[y_kmeans == ind, 0], X[y_kmeans == ind, 1], s = 100, c = colors[i], label=regions[i])\n",
        "    else:\n",
        "      plt.scatter(X[y_kmeans == ind, 0], X[y_kmeans == ind, 1], s = 100, c = colors[i])\n",
        "    a[i]-=1\n",
        "    ind+=1\n",
        "plt.legend(bbox_to_anchor = (1.05, 0.6))\n",
        "plt.show()"
      ],
      "execution_count": 26,
      "outputs": [
        {
          "output_type": "display_data",
          "data": {
            "image/png": "[encoded data removed]",
            "text/plain": [
              "<Figure size 432x288 with 1 Axes>"
            ]
          },
          "metadata": {
            "tags": [],
            "needs_background": "light"
          }
        }
      ]
    },
    {
      "cell_type": "code",
      "metadata": {
        "id": "cOznCU9s1lw6"
      },
      "source": [
        ""
      ],
      "execution_count": null,
      "outputs": []
    }
  ]
}