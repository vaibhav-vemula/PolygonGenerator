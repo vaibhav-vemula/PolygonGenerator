{
  "nbformat": 4,
  "nbformat_minor": 0,
  "metadata": {
    "colab": {
      "name": "kmeans.ipynb",
      "provenance": [],
      "collapsed_sections": []
    },
    "kernelspec": {
      "name": "python3",
      "display_name": "Python 3"
    },
    "language_info": {
      "name": "python"
    }
  },
  "cells": [
    {
      "cell_type": "markdown",
      "metadata": {
        "id": "wYMzcEca1VAe"
      },
      "source": [
        "# **This is for Distribution of already set of Points**"
      ]
    },
    {
      "cell_type": "code",
      "metadata": {
        "id": "CR-bRx3u0iSe"
      },
      "source": [
        "\"\"\"for states\"\"\"\n",
        "import pandas as pd\n",
        "import numpy as np\n",
        "import matplotlib.pyplot as plt\n",
        "from sklearn.cluster import KMeans\n",
        "\n",
        "import json\n",
        "import random\n",
        "\n",
        "f = open('states.json')\n",
        "data = json.load(f)\n",
        "\n",
        "a = data['New Jersey']['Coordinates']\n",
        "x1=[]\n",
        "y1 = []\n",
        "output = []\n",
        "for i in a:\n",
        "    output.append((i['lat'], i['lng']))\n",
        "    x1.append(i['lat'])\n",
        "    y1.append(i['lng'])\n",
        "print(output)\n",
        "plt.scatter(x1,y1, c='b')\n",
        "plt.show()"
      ],
      "execution_count": null,
      "outputs": []
    },
    {
      "cell_type": "markdown",
      "metadata": {
        "id": "4Gm324P71HQx"
      },
      "source": [
        "# **This is for Random Generation**\n",
        "Run this cell only for random generation of points"
      ]
    },
    {
      "cell_type": "code",
      "metadata": {
        "id": "jWQzo8FJ0lvq"
      },
      "source": [
        "\"\"\"for random polygon\"\"\"\n",
        "import math, random\n",
        "from shapely.geometry import Point\n",
        "from shapely.geometry.polygon import Polygon\n",
        "\n",
        "def generatePolygon( ctrX, ctrY, aveRadius, irregularity, spikeyness, numVerts ) :\n",
        "\n",
        "    irregularity = clip( irregularity, 0,1 ) * 2*math.pi / numVerts\n",
        "    spikeyness = clip( spikeyness, 0,1 ) * aveRadius\n",
        "\n",
        "    # generate n angle steps\n",
        "    angleSteps = []\n",
        "    lower = (2*math.pi / numVerts) - irregularity\n",
        "    upper = (2*math.pi / numVerts) + irregularity\n",
        "    sum = 0\n",
        "    for i in range(numVerts) :\n",
        "        tmp = random.uniform(lower, upper)\n",
        "        angleSteps.append( tmp )\n",
        "        sum = sum + tmp\n",
        "\n",
        "    # normalize the steps so that point 0 and point n+1 are the same\n",
        "    k = sum / (2*math.pi)\n",
        "    for i in range(numVerts) :\n",
        "        angleSteps[i] = angleSteps[i] / k\n",
        "\n",
        "    # now generate the points\n",
        "    points = []\n",
        "    angle = random.uniform(0, 2*math.pi)\n",
        "    for i in range(numVerts) :\n",
        "        r_i = clip( random.gauss(aveRadius, spikeyness), 0, 2*aveRadius )\n",
        "        x =  ctrX + r_i*math.cos(angle)\n",
        "        y = ctrY + r_i*math.sin(angle)\n",
        "        points.append( (int(x),int(y)) )\n",
        "\n",
        "        angle = angle + angleSteps[i]\n",
        "\n",
        "    return points\n",
        "\n",
        "def clip(x, min, max) :\n",
        "    if( min > max ) :  return x    \n",
        "    elif( x < min ) :  return min\n",
        "    elif( x > max ) :  return max\n",
        "    else :             return x\n",
        "\n",
        "\n",
        "verts = generatePolygon( ctrX=100, ctrY=100, aveRadius=200, irregularity=1, spikeyness=0.11, numVerts=20 )\n",
        "output = verts\n",
        "pa = Polygon(verts)\n",
        "print(pa.wkt)"
      ],
      "execution_count": null,
      "outputs": []
    },
    {
      "cell_type": "code",
      "metadata": {
        "id": "eP1GpKyp0vpX"
      },
      "source": [
        "from shapely.geometry import Polygon, Point\n",
        "def random_points_within(poly, num_points):\n",
        "    min_x, min_y, max_x, max_y = poly.bounds\n",
        "\n",
        "    points = []\n",
        "\n",
        "    while len(points) < num_points:\n",
        "        random_point = Point([random.uniform(min_x, max_x), random.uniform(min_y, max_y)])\n",
        "        if (random_point.within(poly)):\n",
        "            points.append(random_point)\n",
        "\n",
        "    return points"
      ],
      "execution_count": null,
      "outputs": []
    },
    {
      "cell_type": "code",
      "metadata": {
        "id": "pAPEPnUb0y9b"
      },
      "source": [
        "p = random_points_within(Polygon(output), 50000)\n",
        "points=[]\n",
        "x_point = []\n",
        "y_point = []\n",
        "for i in p:\n",
        "    points.append([i.x, i.y])\n",
        "    x_point.append(i.x)\n",
        "    y_point.append(i.y)\n",
        "points = np.array(points)"
      ],
      "execution_count": null,
      "outputs": []
    },
    {
      "cell_type": "code",
      "metadata": {
        "id": "FqGppzH10213"
      },
      "source": [
        "plt.scatter(x_point,y_point, c='b')\n",
        "plt.show()"
      ],
      "execution_count": null,
      "outputs": []
    },
    {
      "cell_type": "code",
      "metadata": {
        "id": "oGU6qY0104se"
      },
      "source": [
        "from sklearn.decomposition import PCA\n",
        "kmeans = KMeans(n_clusters=8, random_state=0).fit(points)\n",
        "label = kmeans.fit_predict(points)\n",
        "\n",
        "pca = PCA(2)\n",
        "df = pca.fit_transform(points)\n",
        "filtered_label0 = df[label == 0]\n",
        "filtered_label1 = df[label == 1]\n",
        "#filter rows of original data\n",
        "filtered_label2 = df[label == 2]\n",
        "filtered_label3 = df[label == 3]\n",
        "filtered_label4 = df[label == 4]\n",
        "filtered_label5 = df[label == 5]\n",
        "filtered_label6 = df[label == 6]\n",
        "filtered_label7 = df[label == 7]\n",
        "#Plotting the results\n",
        "plt.scatter(filtered_label0[:,0] , filtered_label0[:,1])\n",
        "plt.scatter(filtered_label1[:,0] , filtered_label1[:,1] , color = 'brown')\n",
        "plt.scatter(filtered_label2[:,0] , filtered_label2[:,1] , color = 'green')\n",
        "plt.scatter(filtered_label3[:,0] , filtered_label3[:,1] , color = 'yellow')\n",
        "plt.scatter(filtered_label4[:,0] , filtered_label4[:,1] , color = 'pink')\n",
        "plt.scatter(filtered_label5[:,0] , filtered_label5[:,1] , color = 'blue')\n",
        "plt.scatter(filtered_label6[:,0] , filtered_label6[:,1] , color = 'orange')\n",
        "plt.scatter(filtered_label7[:,0] , filtered_label7[:,1] , color = 'gray')\n",
        "plt.show()"
      ],
      "execution_count": null,
      "outputs": []
    }
  ]
}