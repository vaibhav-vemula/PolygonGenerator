{
  "nbformat": 4,
  "nbformat_minor": 0,
  "metadata": {
    "colab": {
      "name": "Regions.ipynb",
      "provenance": [],
      "collapsed_sections": []
    },
    "kernelspec": {
      "name": "python3",
      "display_name": "Python 3"
    },
    "language_info": {
      "name": "python"
    }
  },
  "cells": [
    {
      "cell_type": "markdown",
      "metadata": {
        "id": "ohD8neUzWQpM"
      },
      "source": [
        "***K-MEANS CLUSTERING***"
      ]
    },
    {
      "cell_type": "markdown",
      "metadata": {
        "id": "n1bzB02DATFO"
      },
      "source": [
        "#FOR RANDOM GENERATION OF POINTS"
      ]
    },
    {
      "cell_type": "code",
      "metadata": {
        "id": "pSVHuWV3j_Ru"
      },
      "source": [
        "import math, random\n",
        "from shapely.geometry import Point\n",
        "from shapely.geometry.polygon import Polygon\n",
        "import pandas as pd\n",
        "import numpy as np\n",
        "import pandas as pd\n",
        "from matplotlib import pyplot as plt\n",
        "from sklearn.cluster import KMeans\n",
        "import matplotlib.pyplot as plt\n",
        "\n",
        "def generatePolygon( ctrX, ctrY, aveRadius, irregularity, spikeyness, numVerts ) :\n",
        "    irregularity =  irregularity * 2*math.pi / numVerts\n",
        "    spikeyness = spikeyness * aveRadius\n",
        "    # generate n angle steps\n",
        "    angleSteps = []\n",
        "    lower = (2*math.pi / numVerts) - irregularity\n",
        "    upper = (2*math.pi / numVerts) + irregularity\n",
        "    sum = 0\n",
        "    for i in range(numVerts) :\n",
        "        tmp = random.uniform(lower, upper)\n",
        "        angleSteps.append( tmp )\n",
        "        sum = sum + tmp\n",
        "    # normalize the steps so that point 0 and point n+1 are the same\n",
        "    k = sum / (2*math.pi)\n",
        "    for i in range(numVerts) :\n",
        "        angleSteps[i] = angleSteps[i] / k\n",
        "    # now generate the points\n",
        "    points = []\n",
        "    angle = random.uniform(0, 2*math.pi)\n",
        "    for i in range(numVerts) :\n",
        "        r_i =  random.gauss(aveRadius, spikeyness)\n",
        "        x =  ctrX + r_i*math.cos(angle)\n",
        "        y = ctrY + r_i*math.sin(angle)\n",
        "        points.append( (int(x),int(y)) )\n",
        "        angle = angle + angleSteps[i]\n",
        "\n",
        "    return points\n",
        "\n",
        "verts = generatePolygon( ctrX=100, ctrY=100, aveRadius=200, irregularity=1, spikeyness=0.11, numVerts=50 )\n",
        "pa = Polygon(verts)"
      ],
      "execution_count": 21,
      "outputs": []
    },
    {
      "cell_type": "markdown",
      "metadata": {
        "id": "CtIdnS_LAYvC"
      },
      "source": [
        "#PRE-DEFINED POINTS FROM STATES"
      ]
    },
    {
      "cell_type": "code",
      "metadata": {
        "colab": {
          "base_uri": "https://localhost:8080/",
          "height": 265
        },
        "id": "KOatgfYw0fiQ",
        "outputId": "ac63cda8-a0e3-47ea-df1f-499bdfe8e0f8"
      },
      "source": [
        "#%%\n",
        "\"\"\"for states\"\"\"\n",
        "import pandas as pd\n",
        "import numpy as np\n",
        "import matplotlib.pyplot as plt\n",
        "from sklearn.cluster import KMeans\n",
        "\n",
        "import json\n",
        "import random\n",
        "\n",
        "f = open('states.json')\n",
        "data = json.load(f)\n",
        "\n",
        "a = data['New Jersey']['Coordinates']\n",
        "x1=[]\n",
        "y1 = []\n",
        "output = []\n",
        "for i in a:\n",
        "    output.append((i['lat'], i['lng']))\n",
        "    x1.append(i['lat'])\n",
        "    y1.append(i['lng'])\n",
        "plt.scatter(x1,y1, c='b')\n",
        "plt.show()"
      ],
      "execution_count": 27,
      "outputs": [
        {
          "output_type": "display_data",
          "data": {
            "image/png": "[encoded data removed]",
            "text/plain": [
              "<Figure size 432x288 with 1 Axes>"
            ]
          },
          "metadata": {
            "tags": [],
            "needs_background": "light"
          }
        }
      ]
    },
    {
      "cell_type": "code",
      "metadata": {
        "id": "Mzhf9xfP2KFB"
      },
      "source": [
        "from shapely.geometry import Polygon, Point\n",
        "def random_points_within(poly, num_points):\n",
        "    min_x, min_y, max_x, max_y = poly.bounds\n",
        "\n",
        "    points = []\n",
        "\n",
        "    while len(points) < num_points:\n",
        "        random_point = Point([random.uniform(min_x, max_x), random.uniform(min_y, max_y)])\n",
        "        if (random_point.within(poly)):\n",
        "            points.append(random_point)\n",
        "\n",
        "    return points"
      ],
      "execution_count": 28,
      "outputs": []
    },
    {
      "cell_type": "code",
      "metadata": {
        "id": "UTHe2Et32K4G"
      },
      "source": [
        "#change 'output' to 'verts' for points randomly generated\n",
        "p = random_points_within(Polygon(output), 50000)    #for states\n",
        "#p = random_points_within(Polygon(verts), 50000)    #for random regions\n",
        "points=[]\n",
        "x_point = []\n",
        "y_point = []\n",
        "for i in p:\n",
        "    points.append([i.x, i.y])\n",
        "    x_point.append(i.x)\n",
        "    y_point.append(i.y)\n",
        "points = np.array(points)"
      ],
      "execution_count": 29,
      "outputs": []
    },
    {
      "cell_type": "code",
      "metadata": {
        "colab": {
          "base_uri": "https://localhost:8080/",
          "height": 265
        },
        "id": "BDIyVh0D2Mzs",
        "outputId": "43ef6110-ce97-496d-97a6-e4acba90b8fd"
      },
      "source": [
        "plt.scatter(x_point,y_point, c='b')\n",
        "plt.show()"
      ],
      "execution_count": 30,
      "outputs": [
        {
          "output_type": "display_data",
          "data": {
            "image/png": "[encoded data removed]",
            "text/plain": [
              "<Figure size 432x288 with 1 Axes>"
            ]
          },
          "metadata": {
            "tags": [],
            "needs_background": "light"
          }
        }
      ]
    },
    {
      "cell_type": "code",
      "metadata": {
        "id": "cgc84EaI9n4b"
      },
      "source": [
        "X=points\n",
        "n_regions = 20\n",
        "kmeans = KMeans(n_clusters = n_regions, init = 'k-means++', random_state = 0)\n",
        "y_kmeans = kmeans.fit_predict(X)"
      ],
      "execution_count": 31,
      "outputs": []
    },
    {
      "cell_type": "code",
      "metadata": {
        "colab": {
          "base_uri": "https://localhost:8080/"
        },
        "id": "3muq7K3P9w76",
        "outputId": "73b266e6-eab1-4a10-d345-c4e10a5aae9f"
      },
      "source": [
        "colors = ['yellowgreen','khaki','cornflowerblue','darkgrey']\n",
        "regions = ['Grasslands','Cultivated Land','Water Bodies','Constructed Buildings']\n",
        "a = [0]*4\n",
        "for i in range(4):\n",
        "  print('Enter Percentage coverage of ', regions[i],\": \")\n",
        "  a[i] = int(input())"
      ],
      "execution_count": 37,
      "outputs": [
        {
          "output_type": "stream",
          "text": [
            "Enter Percentage coverage of  Grasslands : \n",
            "25\n",
            "Enter Percentage coverage of  Cultivated Land : \n",
            "25\n",
            "Enter Percentage coverage of  Water Bodies : \n",
            "25\n",
            "Enter Percentage coverage of  Constructed Buildings : \n",
            "25\n"
          ],
          "name": "stdout"
        }
      ]
    },
    {
      "cell_type": "code",
      "metadata": {
        "colab": {
          "base_uri": "https://localhost:8080/",
          "height": 265
        },
        "id": "2XESbMNX91Y8",
        "outputId": "9482e1a8-558a-4fac-c8cc-491b936ee0b4"
      },
      "source": [
        "ind = 0\n",
        "for i in range(4):\n",
        "  r = (a[i]*n_regions)//100\n",
        "  for j in range(r):\n",
        "    if(j==0):\n",
        "      plt.scatter(X[y_kmeans == ind, 0], X[y_kmeans == ind, 1], s = 100, c = colors[i], label=regions[i])\n",
        "    else:\n",
        "      plt.scatter(X[y_kmeans == ind, 0], X[y_kmeans == ind, 1], s = 100, c = colors[i])\n",
        "    a[i]-=1\n",
        "    ind+=1\n",
        "plt.legend(bbox_to_anchor = (1.05, 0.6))\n",
        "plt.show()"
      ],
      "execution_count": 38,
      "outputs": [
        {
          "output_type": "display_data",
          "data": {
            "image/png": "[encoded data removed]",
            "text/plain": [
              "<Figure size 432x288 with 1 Axes>"
            ]
          },
          "metadata": {
            "tags": [],
            "needs_background": "light"
          }
        }
      ]
    },
    {
      "cell_type": "code",
      "metadata": {
        "id": "cOznCU9s1lw6"
      },
      "source": [
        ""
      ],
      "execution_count": null,
      "outputs": []
    }
  ]
}